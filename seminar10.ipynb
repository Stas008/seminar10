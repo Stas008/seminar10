{
 "cells": [
  {
   "cell_type": "markdown",
   "id": "b0011e0b",
   "metadata": {},
   "source": [
    "Вычислить корни"
   ]
  },
  {
   "cell_type": "code",
   "execution_count": 22,
   "id": "78777043",
   "metadata": {},
   "outputs": [
    {
     "name": "stdout",
     "output_type": "stream",
     "text": [
      "[-3/8 - sqrt(9/16 + 15/(8*(455/1152 + 5*sqrt(35459)*I/1152)**(1/3)) + 2*(455/1152 + 5*sqrt(35459)*I/1152)**(1/3))/2 + sqrt(9/8 - 2*(455/1152 + 5*sqrt(35459)*I/1152)**(1/3) - 79/(96*sqrt(9/16 + 15/(8*(455/1152 + 5*sqrt(35459)*I/1152)**(1/3)) + 2*(455/1152 + 5*sqrt(35459)*I/1152)**(1/3))) - 15/(8*(455/1152 + 5*sqrt(35459)*I/1152)**(1/3)))/2, -3/8 + sqrt(9/16 + 15/(8*(455/1152 + 5*sqrt(35459)*I/1152)**(1/3)) + 2*(455/1152 + 5*sqrt(35459)*I/1152)**(1/3))/2 - sqrt(9/8 - 2*(455/1152 + 5*sqrt(35459)*I/1152)**(1/3) + 79/(96*sqrt(9/16 + 15/(8*(455/1152 + 5*sqrt(35459)*I/1152)**(1/3)) + 2*(455/1152 + 5*sqrt(35459)*I/1152)**(1/3))) - 15/(8*(455/1152 + 5*sqrt(35459)*I/1152)**(1/3)))/2, -3/8 - sqrt(9/8 - 2*(455/1152 + 5*sqrt(35459)*I/1152)**(1/3) - 79/(96*sqrt(9/16 + 15/(8*(455/1152 + 5*sqrt(35459)*I/1152)**(1/3)) + 2*(455/1152 + 5*sqrt(35459)*I/1152)**(1/3))) - 15/(8*(455/1152 + 5*sqrt(35459)*I/1152)**(1/3)))/2 - sqrt(9/16 + 15/(8*(455/1152 + 5*sqrt(35459)*I/1152)**(1/3)) + 2*(455/1152 + 5*sqrt(35459)*I/1152)**(1/3))/2, -3/8 + sqrt(9/8 - 2*(455/1152 + 5*sqrt(35459)*I/1152)**(1/3) + 79/(96*sqrt(9/16 + 15/(8*(455/1152 + 5*sqrt(35459)*I/1152)**(1/3)) + 2*(455/1152 + 5*sqrt(35459)*I/1152)**(1/3))) - 15/(8*(455/1152 + 5*sqrt(35459)*I/1152)**(1/3)))/2 + sqrt(9/16 + 15/(8*(455/1152 + 5*sqrt(35459)*I/1152)**(1/3)) + 2*(455/1152 + 5*sqrt(35459)*I/1152)**(1/3))/2]\n"
     ]
    }
   ],
   "source": [
    "import sympy\n",
    "import math\n",
    "x=sympy.symbols('x')\n",
    "ans=sympy.solve('-12*x**4 - 18*x**3 + 10*x - 30')\n",
    "print(ans)"
   ]
  },
  {
   "cell_type": "markdown",
   "id": "f1be67ed",
   "metadata": {},
   "source": [
    "построить график (грубо)"
   ]
  },
  {
   "cell_type": "code",
   "execution_count": 69,
   "id": "dc0accd5",
   "metadata": {},
   "outputs": [
    {
     "data": {
      "image/png": "[encoded data removed]",
      "text/plain": [
       "<Figure size 432x288 with 1 Axes>"
      ]
     },
     "metadata": {
      "needs_background": "light"
     },
     "output_type": "display_data"
    }
   ],
   "source": [
    "import matplotlib.pyplot as plt\n",
    "import math\n",
    "x=[(-12*x**4*math.cos(math.sin(x)) - 18*x**3 + 10*x - 30) for x in range (-10,11)]\n",
    "y=[y for y in range (-10,11)]\n",
    "plt.plot(y,x,'r-')\n",
    "plt.show()"
   ]
  },
  {
   "cell_type": "markdown",
   "id": "6f09dcc7",
   "metadata": {},
   "source": [
    "График поточнее"
   ]
  },
  {
   "cell_type": "code",
   "execution_count": 72,
   "id": "b80c5ccf",
   "metadata": {},
   "outputs": [
    {
     "data": {
      "image/png": "[encoded data removed]",
      "text/plain": [
       "<Figure size 432x288 with 1 Axes>"
      ]
     },
     "metadata": {
      "needs_background": "light"
     },
     "output_type": "display_data"
    }
   ],
   "source": [
    "import matplotlib.pyplot as plt\n",
    "import math\n",
    "x_list=[]\n",
    "y_list=[]\n",
    "x=-10\n",
    "while x<=10:\n",
    "    x_list.append((-12*x**4*math.cos(math.sin(x)) - 18*x**3 + 10*x - 30))\n",
    "    y_list.append(x)\n",
    "    x+=0.1\n",
    "\n",
    "\n",
    "plt.plot(y_list,x_list,'r-')\n",
    "plt.show()"
   ]
  },
  {
   "cell_type": "markdown",
   "id": "c64854a4",
   "metadata": {},
   "source": [
    "Интервалы, на которых функция возрастает и убывает"
   ]
  },
  {
   "cell_type": "code",
   "execution_count": 73,
   "id": "2bc3f876",
   "metadata": {},
   "outputs": [
    {
     "name": "stdout",
     "output_type": "stream",
     "text": [
      "функция возрастает на следующих участках: ['(-9.7,-7.6)', '(-6.7,-4.3)', '(-3.9,-1.7)', '(-0.5,0.4)']\n",
      "функция убывает на следующих участка: ['(-10.1,-9.8)', '(-7.5,-6.8)', '(-4.2,-4.0)', '(-1.6,-0.6)', '(0.5,9.9)']\n"
     ]
    }
   ],
   "source": [
    "import math\n",
    "\n",
    "x=-10.2\n",
    "prev_elt=(-12*x**4*math.cos(math.sin(x)) - 18*x**3 + 10*x - 30)\n",
    "x+=0.1\n",
    "results=[]\n",
    "while (x<=10):\n",
    "    cur_elt = (-12*x**4*math.cos(math.sin(x)) - 18*x**3 + 10*x - 30)\n",
    "    if cur_elt>prev_elt:\n",
    "        results.append([round(x,2),\"up\"])\n",
    "    else:\n",
    "        results.append([round(x,2),\"down\"])\n",
    "    x+=0.1\n",
    "    prev_elt=cur_elt\n",
    "inc_res=[]\n",
    "dec_res=[]\n",
    "prev_item=results[0]\n",
    "start_pos=results[0][0]\n",
    "end_pos=start_pos\n",
    "for item in results[1:]:\n",
    "    if (item[1]==prev_item[1]):\n",
    "            end_pos=item[0]\n",
    "    else:\n",
    "        temp_res=f\"({start_pos},{end_pos})\"\n",
    "        start_pos=item[0]\n",
    "        end_pos=item[0]\n",
    "        if item[1]==\"down\":\n",
    "            inc_res.append(temp_res)\n",
    "        else:\n",
    "            dec_res.append(temp_res)\n",
    "    prev_item=item\n",
    "print(f\"функция возрастает на следующих участках: {inc_res}\")\n",
    "print(f\"функция убывает на следующих участка: {dec_res}\")\n",
    "            "
   ]
  },
  {
   "cell_type": "markdown",
   "id": "bab41450",
   "metadata": {},
   "source": [
    "Интервалы, на которых функция меньше или больше 0"
   ]
  },
  {
   "cell_type": "code",
   "execution_count": 74,
   "id": "93ad9c55",
   "metadata": {},
   "outputs": [
    {
     "name": "stdout",
     "output_type": "stream",
     "text": [
      "функция больше 0 на следующих участках: []\n",
      "функция меньше 0 на следующих: ['(-10.1,10.0)']\n"
     ]
    }
   ],
   "source": [
    "import math\n",
    "\n",
    "x=-10.2\n",
    "prev_elt=(-12*x**4*math.cos(math.sin(x)) - 18*x**3 + 10*x - 30)\n",
    "x+=0.1\n",
    "results=[]\n",
    "while (x<=10):\n",
    "    if ((-12*x**4*math.cos(math.sin(x)) - 18*x**3 + 10*x - 30) < 0):\n",
    "        results.append([round(x,2),\"less\"])\n",
    "    else:\n",
    "        results.append([round(x,2),\"more\"])\n",
    "    x+=0.1\n",
    "results.append([round(x,2),\"end\"])\n",
    "less_res=[]\n",
    "more_res=[]\n",
    "prev_item=results[0]\n",
    "start_pos=results[0][0]\n",
    "end_pos=start_pos\n",
    "for item in results[1:]:\n",
    "\n",
    "    if (item[1]==prev_item[1]):\n",
    "            end_pos=item[0]\n",
    "       \n",
    "    else:\n",
    "        temp_res=f\"({start_pos},{end_pos})\"\n",
    "        start_pos=item[0]\n",
    "        end_pos=item[0]\n",
    "        if item[1]==\"less\":\n",
    "            more_res.append(temp_res)\n",
    "        else:\n",
    "            less_res.append(temp_res)\n",
    "    prev_item=item\n",
    "\n",
    "print(f\"функция больше 0 на следующих участках: {more_res}\")\n",
    "print(f\"функция меньше 0 на следующих: {less_res}\")\n",
    "            "
   ]
  },
  {
   "cell_type": "markdown",
   "id": "378431ae",
   "metadata": {},
   "source": [
    "вершина графика"
   ]
  },
  {
   "cell_type": "code",
   "execution_count": 48,
   "id": "56d4f8d8",
   "metadata": {},
   "outputs": [
    {
     "name": "stdout",
     "output_type": "stream",
     "text": [
      "[-13.41897895299585, -1.7]\n"
     ]
    }
   ],
   "source": [
    "import math\n",
    "my_list=[]\n",
    "x=-10\n",
    "max=[(-12*x**4*math.cos(math.sin(x)) - 18*x**3 + 10*x - 30) , x]\n",
    "while (x<=10):\n",
    "    x+=0.1\n",
    "    if ((-12*x**4*math.cos(math.sin(x)) - 18*x**3 + 10*x - 30)>=max[0]):\n",
    "        max=[(-12*x**4*math.cos(math.sin(x)) - 18*x**3 + 10*x - 30),round (x,2)]\n",
    "    \n",
    "    \n",
    "print (max)\n",
    "  \n",
    "    "
   ]
  },
  {
   "cell_type": "code",
   "execution_count": null,
   "id": "98f79cc8",
   "metadata": {},
   "outputs": [],
   "source": []
  }
 ],
 "metadata": {
  "kernelspec": {
   "display_name": "Python 3 (ipykernel)",
   "language": "python",
   "name": "python3"
  },
  "language_info": {
   "codemirror_mode": {
    "name": "ipython",
    "version": 3
   },
   "file_extension": ".py",
   "mimetype": "text/x-python",
   "name": "python",
   "nbconvert_exporter": "python",
   "pygments_lexer": "ipython3",
   "version": "3.9.12"
  }
 },
 "nbformat": 4,
 "nbformat_minor": 5
}
